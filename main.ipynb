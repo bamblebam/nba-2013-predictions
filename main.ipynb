{
 "metadata": {
  "language_info": {
   "codemirror_mode": {
    "name": "ipython",
    "version": 3
   },
   "file_extension": ".py",
   "mimetype": "text/x-python",
   "name": "python",
   "nbconvert_exporter": "python",
   "pygments_lexer": "ipython3",
   "version": "3.8.8"
  },
  "orig_nbformat": 4,
  "kernelspec": {
   "name": "python3",
   "display_name": "Python 3.8.8 64-bit ('tf': conda)"
  },
  "interpreter": {
   "hash": "8f7a9caefe3fbe01c4aa0205e6cc1c36763ed3d41b234746df90d0099aaa4109"
  }
 },
 "nbformat": 4,
 "nbformat_minor": 2,
 "cells": [
  {
   "cell_type": "code",
   "execution_count": 45,
   "metadata": {},
   "outputs": [
    {
     "output_type": "display_data",
     "data": {
      "text/plain": "<Figure size 720x80 with 1 Axes>",
      "image/svg+xml": "<?xml version=\"1.0\" encoding=\"utf-8\" standalone=\"no\"?>\r\n<!DOCTYPE svg PUBLIC \"-//W3C//DTD SVG 1.1//EN\"\r\n  \"http://www.w3.org/Graphics/SVG/1.1/DTD/svg11.dtd\">\r\n<svg height=\"72.26pt\" version=\"1.1\" viewBox=\"0 0 520.1 72.26\" width=\"520.1pt\" xmlns=\"http://www.w3.org/2000/svg\" xmlns:xlink=\"http://www.w3.org/1999/xlink\">\r\n <metadata>\r\n  <rdf:RDF xmlns:cc=\"http://creativecommons.org/ns#\" xmlns:dc=\"http://purl.org/dc/elements/1.1/\" xmlns:rdf=\"http://www.w3.org/1999/02/22-rdf-syntax-ns#\">\r\n   <cc:Work>\r\n    <dc:type rdf:resource=\"http://purl.org/dc/dcmitype/StillImage\"/>\r\n    <dc:date>2021-06-18T16:24:56.599342</dc:date>\r\n    <dc:format>image/svg+xml</dc:format>\r\n    <dc:creator>\r\n     <cc:Agent>\r\n      <dc:title>Matplotlib v3.4.2, https://matplotlib.org/</dc:title>\r\n     </cc:Agent>\r\n    </dc:creator>\r\n   </cc:Work>\r\n  </rdf:RDF>\r\n </metadata>\r\n <defs>\r\n  <style type=\"text/css\">*{stroke-linecap:butt;stroke-linejoin:round;}</style>\r\n </defs>\r\n <g id=\"figure_1\">\r\n  <g id=\"patch_1\">\r\n   <path d=\"M 0 72.26 \r\nL 520.1 72.26 \r\nL 520.1 0 \r\nL 0 0 \r\nz\r\n\" style=\"fill:#2c2c2e;\"/>\r\n  </g>\r\n  <g id=\"axes_1\">\r\n   <g id=\"patch_2\">\r\n    <path d=\"M 10.7 61.56 \r\nL 512.9 61.56 \r\nL 512.9 7.2 \r\nL 10.7 7.2 \r\nz\r\n\" style=\"fill:#2c2c2e;\"/>\r\n   </g>\r\n   <g clip-path=\"url(#pfb251e7d45)\">\r\n    <image height=\"54.9\" id=\"image4b68704215\" transform=\"scale(1 -1)translate(0 -54.9)\" width=\"503.1\" x=\"10.7\" xlink:href=\"data:image/png;base64,\r\niVBORw0KGgoAAAANSUhEUgAAAi8AAAA9CAYAAABlVYn9AAABcklEQVR4nO3WoVUCABiFUeCQMJOcAgdhCzew2N2CIGxBZAMHoDEDZpzB9J/vcO8Er71vufl6PBZP6Pf1ZXrCiN3bfnrCiJ+P2/SEEZfteXrCmO/VfXrCiNP1c3rCiPfDcXrCiMP6Ob9sNT0AAOA/xAsAkCJeAIAU8QIApIgXACBFvAAAKeIFAEgRLwBAingBAFLECwCQIl4AgBTxAgCkiBcAIEW8AAAp4gUASBEvAECKeAEAUsQLAJAiXgCAFPECAKSIFwAgRbwAACniBQBIES8AQIp4AQBSxAsAkCJeAIAU8QIApIgXACBFvAAAKeIFAEgRLwBAingBAFLECwCQIl4AgBTxAgCkiBcAIEW8AAAp4gUASBEvAECKeAEAUsQLAJAiXgCAFPECAKSIFwAgRbwAACniBQBIES8AQIp4AQBSxAsAkCJeAIAU8QIApIgXACBFvAAAKeIFAEgRLwBAingBAFLECwCQIl4AgBTxAgCk/AFwbw5YLg9/iwAAAABJRU5ErkJggg==\" y=\"-6.66\"/>\r\n   </g>\r\n   <g id=\"matplotlib.axis_1\">\r\n    <g id=\"xtick_1\">\r\n     <g id=\"line2d_1\">\r\n      <defs>\r\n       <path d=\"M 0 0 \r\nL 0 3.5 \r\n\" id=\"m5aec45e66f\" style=\"stroke:#e5e5ea;stroke-width:0.8;\"/>\r\n      </defs>\r\n      <g>\r\n       <use style=\"fill:#e5e5ea;stroke:#e5e5ea;stroke-width:0.8;\" x=\"10.7\" xlink:href=\"#m5aec45e66f\" y=\"61.56\"/>\r\n      </g>\r\n     </g>\r\n    </g>\r\n    <g id=\"xtick_2\">\r\n     <g id=\"line2d_2\">\r\n      <g>\r\n       <use style=\"fill:#e5e5ea;stroke:#e5e5ea;stroke-width:0.8;\" x=\"66.5\" xlink:href=\"#m5aec45e66f\" y=\"61.56\"/>\r\n      </g>\r\n     </g>\r\n    </g>\r\n    <g id=\"xtick_3\">\r\n     <g id=\"line2d_3\">\r\n      <g>\r\n       <use style=\"fill:#e5e5ea;stroke:#e5e5ea;stroke-width:0.8;\" x=\"122.3\" xlink:href=\"#m5aec45e66f\" y=\"61.56\"/>\r\n      </g>\r\n     </g>\r\n    </g>\r\n    <g id=\"xtick_4\">\r\n     <g id=\"line2d_4\">\r\n      <g>\r\n       <use style=\"fill:#e5e5ea;stroke:#e5e5ea;stroke-width:0.8;\" x=\"178.1\" xlink:href=\"#m5aec45e66f\" y=\"61.56\"/>\r\n      </g>\r\n     </g>\r\n    </g>\r\n    <g id=\"xtick_5\">\r\n     <g id=\"line2d_5\">\r\n      <g>\r\n       <use style=\"fill:#e5e5ea;stroke:#e5e5ea;stroke-width:0.8;\" x=\"233.9\" xlink:href=\"#m5aec45e66f\" y=\"61.56\"/>\r\n      </g>\r\n     </g>\r\n    </g>\r\n    <g id=\"xtick_6\">\r\n     <g id=\"line2d_6\">\r\n      <g>\r\n       <use style=\"fill:#e5e5ea;stroke:#e5e5ea;stroke-width:0.8;\" x=\"289.7\" xlink:href=\"#m5aec45e66f\" y=\"61.56\"/>\r\n      </g>\r\n     </g>\r\n    </g>\r\n    <g id=\"xtick_7\">\r\n     <g id=\"line2d_7\">\r\n      <g>\r\n       <use style=\"fill:#e5e5ea;stroke:#e5e5ea;stroke-width:0.8;\" x=\"345.5\" xlink:href=\"#m5aec45e66f\" y=\"61.56\"/>\r\n      </g>\r\n     </g>\r\n    </g>\r\n    <g id=\"xtick_8\">\r\n     <g id=\"line2d_8\">\r\n      <g>\r\n       <use style=\"fill:#e5e5ea;stroke:#e5e5ea;stroke-width:0.8;\" x=\"401.3\" xlink:href=\"#m5aec45e66f\" y=\"61.56\"/>\r\n      </g>\r\n     </g>\r\n    </g>\r\n    <g id=\"xtick_9\">\r\n     <g id=\"line2d_9\">\r\n      <g>\r\n       <use style=\"fill:#e5e5ea;stroke:#e5e5ea;stroke-width:0.8;\" x=\"457.1\" xlink:href=\"#m5aec45e66f\" y=\"61.56\"/>\r\n      </g>\r\n     </g>\r\n    </g>\r\n   </g>\r\n   <g id=\"matplotlib.axis_2\"/>\r\n   <g id=\"patch_3\">\r\n    <path d=\"M 10.7 61.56 \r\nL 10.7 7.2 \r\n\" style=\"fill:none;stroke:#2c2c2e;stroke-linecap:square;stroke-linejoin:miter;stroke-width:0.8;\"/>\r\n   </g>\r\n   <g id=\"patch_4\">\r\n    <path d=\"M 10.7 61.56 \r\nL 512.9 61.56 \r\n\" style=\"fill:none;stroke:#2c2c2e;stroke-linecap:square;stroke-linejoin:miter;stroke-width:0.8;\"/>\r\n   </g>\r\n  </g>\r\n </g>\r\n <defs>\r\n  <clipPath id=\"pfb251e7d45\">\r\n   <rect height=\"54.36\" width=\"502.2\" x=\"10.7\" y=\"7.2\"/>\r\n  </clipPath>\r\n </defs>\r\n</svg>\r\n",
      "image/png": "[encoded data removed]"
     },
     "metadata": {}
    }
   ],
   "source": [
    "import numpy as np\n",
    "import matplotlib as mpl\n",
    "import matplotlib.pyplot as plt\n",
    "import seaborn as sns\n",
    "import pandas as pd\n",
    "from cycler import cycler\n",
    "import plotly.graph_objects as go\n",
    "import plotly.express as px\n",
    "\n",
    "import joblib\n",
    "\n",
    "from sklearn.preprocessing import LabelEncoder,RobustScaler\n",
    "from sklearn.model_selection import train_test_split,KFold,cross_val_score,cross_val_predict\n",
    "from sklearn.metrics import log_loss\n",
    "from sklearn.ensemble import RandomForestRegressor\n",
    "\n",
    "%matplotlib inline\n",
    "\n",
    "raw_dark_palette = [\n",
    "    (10, 132, 255), # Blue\n",
    "    (255, 159, 10), # Orange\n",
    "    (48, 209, 88),  # Green\n",
    "    (255, 69, 58),  # Red\n",
    "    (191, 90, 242), # Purple\n",
    "    (94, 92, 230),  # Indigo\n",
    "    (255, 55, 95),  # Pink\n",
    "    (100, 210, 255),# Teal\n",
    "    (255, 214, 10)  # Yellow\n",
    "]\n",
    "raw_darks=[\n",
    "    (44, 44, 46)\n",
    "]\n",
    "raw_lights=[\n",
    "    (229, 229, 234)\n",
    "]\n",
    "miscellaneous={\n",
    "    'blue':'#0f71d4',\n",
    "    'green':'#14b827',\n",
    "    'red':'#cf0c0c'\n",
    "}\n",
    "\n",
    "dark_palette=np.array(raw_dark_palette)/255\n",
    "darks=np.array(raw_darks)/255\n",
    "lights=np.array(raw_lights)/255\n",
    "\n",
    "#rcparams\n",
    "dark_color=darks[-1]\n",
    "light_color=lights[-1]\n",
    "\n",
    "mpl.rcParams['axes.prop_cycle']=cycler('color',dark_palette)\n",
    "mpl.rcParams['figure.facecolor']=dark_color\n",
    "mpl.rcParams['figure.edgecolor']=dark_color\n",
    "mpl.rcParams['axes.facecolor']=dark_color\n",
    "mpl.rcParams['text.color']=light_color\n",
    "mpl.rcParams['axes.labelcolor']=light_color\n",
    "mpl.rcParams['axes.edgecolor']=dark_color\n",
    "mpl.rcParams['xtick.color']=light_color\n",
    "mpl.rcParams['ytick.color']=light_color\n",
    "mpl.rcParams['figure.dpi']=80\n",
    "mpl.rcParams['axes.spines.top'] = False\n",
    "mpl.rcParams['axes.spines.right'] = False\n",
    "\n",
    "sns.palplot(dark_palette)"
   ]
  },
  {
   "cell_type": "code",
   "execution_count": 46,
   "metadata": {},
   "outputs": [
    {
     "output_type": "execute_result",
     "data": {
      "text/plain": [
       "          player pos  age bref_team_id   g  gs    mp   fg   fga    fg.  ...  \\\n",
       "0     Quincy Acy  SF   23          TOT  63   0   847   66   141  0.468  ...   \n",
       "1   Steven Adams   C   20          OKC  81  20  1197   93   185  0.503  ...   \n",
       "2    Jeff Adrien  PF   27          TOT  53  12   961  143   275  0.520  ...   \n",
       "3  Arron Afflalo  SG   28          ORL  73  73  2552  464  1011  0.459  ...   \n",
       "4  Alexis Ajinca   C   25          NOP  56  30   951  136   249  0.546  ...   \n",
       "\n",
       "   drb  trb  ast  stl  blk  tov   pf   pts     season  season_end  \n",
       "0  144  216   28   23   26   30  122   171  2013-2014        2013  \n",
       "1  190  332   43   40   57   71  203   265  2013-2014        2013  \n",
       "2  204  306   38   24   36   39  108   362  2013-2014        2013  \n",
       "3  230  262  248   35    3  146  136  1330  2013-2014        2013  \n",
       "4  183  277   40   23   46   63  187   328  2013-2014        2013  \n",
       "\n",
       "[5 rows x 31 columns]"
      ],
      "text/html": "<div>\n<style scoped>\n    .dataframe tbody tr th:only-of-type {\n        vertical-align: middle;\n    }\n\n    .dataframe tbody tr th {\n        vertical-align: top;\n    }\n\n    .dataframe thead th {\n        text-align: right;\n    }\n</style>\n<table border=\"1\" class=\"dataframe\">\n  <thead>\n    <tr style=\"text-align: right;\">\n      <th></th>\n      <th>player</th>\n      <th>pos</th>\n      <th>age</th>\n      <th>bref_team_id</th>\n      <th>g</th>\n      <th>gs</th>\n      <th>mp</th>\n      <th>fg</th>\n      <th>fga</th>\n      <th>fg.</th>\n      <th>...</th>\n      <th>drb</th>\n      <th>trb</th>\n      <th>ast</th>\n      <th>stl</th>\n      <th>blk</th>\n      <th>tov</th>\n      <th>pf</th>\n      <th>pts</th>\n      <th>season</th>\n      <th>season_end</th>\n    </tr>\n  </thead>\n  <tbody>\n    <tr>\n      <th>0</th>\n      <td>Quincy Acy</td>\n      <td>SF</td>\n      <td>23</td>\n      <td>TOT</td>\n      <td>63</td>\n      <td>0</td>\n      <td>847</td>\n      <td>66</td>\n      <td>141</td>\n      <td>0.468</td>\n      <td>...</td>\n      <td>144</td>\n      <td>216</td>\n      <td>28</td>\n      <td>23</td>\n      <td>26</td>\n      <td>30</td>\n      <td>122</td>\n      <td>171</td>\n      <td>2013-2014</td>\n      <td>2013</td>\n    </tr>\n    <tr>\n      <th>1</th>\n      <td>Steven Adams</td>\n      <td>C</td>\n      <td>20</td>\n      <td>OKC</td>\n      <td>81</td>\n      <td>20</td>\n      <td>1197</td>\n      <td>93</td>\n      <td>185</td>\n      <td>0.503</td>\n      <td>...</td>\n      <td>190</td>\n      <td>332</td>\n      <td>43</td>\n      <td>40</td>\n      <td>57</td>\n      <td>71</td>\n      <td>203</td>\n      <td>265</td>\n      <td>2013-2014</td>\n      <td>2013</td>\n    </tr>\n    <tr>\n      <th>2</th>\n      <td>Jeff Adrien</td>\n      <td>PF</td>\n      <td>27</td>\n      <td>TOT</td>\n      <td>53</td>\n      <td>12</td>\n      <td>961</td>\n      <td>143</td>\n      <td>275</td>\n      <td>0.520</td>\n      <td>...</td>\n      <td>204</td>\n      <td>306</td>\n      <td>38</td>\n      <td>24</td>\n      <td>36</td>\n      <td>39</td>\n      <td>108</td>\n      <td>362</td>\n      <td>2013-2014</td>\n      <td>2013</td>\n    </tr>\n    <tr>\n      <th>3</th>\n      <td>Arron Afflalo</td>\n      <td>SG</td>\n      <td>28</td>\n      <td>ORL</td>\n      <td>73</td>\n      <td>73</td>\n      <td>2552</td>\n      <td>464</td>\n      <td>1011</td>\n      <td>0.459</td>\n      <td>...</td>\n      <td>230</td>\n      <td>262</td>\n      <td>248</td>\n      <td>35</td>\n      <td>3</td>\n      <td>146</td>\n      <td>136</td>\n      <td>1330</td>\n      <td>2013-2014</td>\n      <td>2013</td>\n    </tr>\n    <tr>\n      <th>4</th>\n      <td>Alexis Ajinca</td>\n      <td>C</td>\n      <td>25</td>\n      <td>NOP</td>\n      <td>56</td>\n      <td>30</td>\n      <td>951</td>\n      <td>136</td>\n      <td>249</td>\n      <td>0.546</td>\n      <td>...</td>\n      <td>183</td>\n      <td>277</td>\n      <td>40</td>\n      <td>23</td>\n      <td>46</td>\n      <td>63</td>\n      <td>187</td>\n      <td>328</td>\n      <td>2013-2014</td>\n      <td>2013</td>\n    </tr>\n  </tbody>\n</table>\n<p>5 rows × 31 columns</p>\n</div>"
     },
     "metadata": {},
     "execution_count": 46
    }
   ],
   "source": [
    "df=pd.read_csv('data/nba_2013.csv')\n",
    "df.head()"
   ]
  },
  {
   "cell_type": "code",
   "execution_count": 47,
   "metadata": {},
   "outputs": [
    {
     "output_type": "execute_result",
     "data": {
      "text/plain": [
       "              age           g          gs           mp          fg  \\\n",
       "count  481.000000  481.000000  481.000000   481.000000  481.000000   \n",
       "mean    26.509356   53.253638   25.571726  1237.386694  192.881497   \n",
       "std      4.198265   25.322711   29.658465   897.258840  171.832793   \n",
       "min     19.000000    1.000000    0.000000     1.000000    0.000000   \n",
       "25%     23.000000   32.000000    0.000000   388.000000   47.000000   \n",
       "50%     26.000000   61.000000   10.000000  1141.000000  146.000000   \n",
       "75%     29.000000   76.000000   54.000000  2016.000000  307.000000   \n",
       "max     39.000000   83.000000   82.000000  3122.000000  849.000000   \n",
       "\n",
       "               fga         fg.         x3p        x3pa        x3p.  ...  \\\n",
       "count   481.000000  479.000000  481.000000  481.000000  414.000000  ...   \n",
       "mean    424.463617    0.436436   39.613306  110.130977    0.285111  ...   \n",
       "std     368.850833    0.098672   50.855639  132.751732    0.157633  ...   \n",
       "min       0.000000    0.000000    0.000000    0.000000    0.000000  ...   \n",
       "25%     110.000000    0.400500    0.000000    3.000000    0.234355  ...   \n",
       "50%     332.000000    0.438000   16.000000   48.000000    0.330976  ...   \n",
       "75%     672.000000    0.479500   68.000000  193.000000    0.375000  ...   \n",
       "max    1688.000000    1.000000  261.000000  615.000000    1.000000  ...   \n",
       "\n",
       "              orb         drb          trb         ast         stl  \\\n",
       "count  481.000000  481.000000   481.000000  481.000000  481.000000   \n",
       "mean    55.810811  162.817048   218.627859  112.536383   39.280665   \n",
       "std     62.101191  145.348116   200.356507  131.019557   34.783590   \n",
       "min      0.000000    0.000000     0.000000    0.000000    0.000000   \n",
       "25%     12.000000   43.000000    55.000000   20.000000    9.000000   \n",
       "50%     35.000000  135.000000   168.000000   65.000000   32.000000   \n",
       "75%     73.000000  230.000000   310.000000  152.000000   60.000000   \n",
       "max    440.000000  783.000000  1114.000000  721.000000  191.000000   \n",
       "\n",
       "              blk         tov          pf          pts  season_end  \n",
       "count  481.000000  481.000000  481.000000   481.000000       481.0  \n",
       "mean    24.103950   71.862786  105.869023   516.582121      2013.0  \n",
       "std     30.875381   62.701690   71.213627   470.422228         0.0  \n",
       "min      0.000000    0.000000    0.000000     0.000000      2013.0  \n",
       "25%      4.000000   21.000000   44.000000   115.000000      2013.0  \n",
       "50%     14.000000   58.000000  104.000000   401.000000      2013.0  \n",
       "75%     32.000000  108.000000  158.000000   821.000000      2013.0  \n",
       "max    219.000000  295.000000  273.000000  2593.000000      2013.0  \n",
       "\n",
       "[8 rows x 27 columns]"
      ],
      "text/html": "<div>\n<style scoped>\n    .dataframe tbody tr th:only-of-type {\n        vertical-align: middle;\n    }\n\n    .dataframe tbody tr th {\n        vertical-align: top;\n    }\n\n    .dataframe thead th {\n        text-align: right;\n    }\n</style>\n<table border=\"1\" class=\"dataframe\">\n  <thead>\n    <tr style=\"text-align: right;\">\n      <th></th>\n      <th>age</th>\n      <th>g</th>\n      <th>gs</th>\n      <th>mp</th>\n      <th>fg</th>\n      <th>fga</th>\n      <th>fg.</th>\n      <th>x3p</th>\n      <th>x3pa</th>\n      <th>x3p.</th>\n      <th>...</th>\n      <th>orb</th>\n      <th>drb</th>\n      <th>trb</th>\n      <th>ast</th>\n      <th>stl</th>\n      <th>blk</th>\n      <th>tov</th>\n      <th>pf</th>\n      <th>pts</th>\n      <th>season_end</th>\n    </tr>\n  </thead>\n  <tbody>\n    <tr>\n      <th>count</th>\n      <td>481.000000</td>\n      <td>481.000000</td>\n      <td>481.000000</td>\n      <td>481.000000</td>\n      <td>481.000000</td>\n      <td>481.000000</td>\n      <td>479.000000</td>\n      <td>481.000000</td>\n      <td>481.000000</td>\n      <td>414.000000</td>\n      <td>...</td>\n      <td>481.000000</td>\n      <td>481.000000</td>\n      <td>481.000000</td>\n      <td>481.000000</td>\n      <td>481.000000</td>\n      <td>481.000000</td>\n      <td>481.000000</td>\n      <td>481.000000</td>\n      <td>481.000000</td>\n      <td>481.0</td>\n    </tr>\n    <tr>\n      <th>mean</th>\n      <td>26.509356</td>\n      <td>53.253638</td>\n      <td>25.571726</td>\n      <td>1237.386694</td>\n      <td>192.881497</td>\n      <td>424.463617</td>\n      <td>0.436436</td>\n      <td>39.613306</td>\n      <td>110.130977</td>\n      <td>0.285111</td>\n      <td>...</td>\n      <td>55.810811</td>\n      <td>162.817048</td>\n      <td>218.627859</td>\n      <td>112.536383</td>\n      <td>39.280665</td>\n      <td>24.103950</td>\n      <td>71.862786</td>\n      <td>105.869023</td>\n      <td>516.582121</td>\n      <td>2013.0</td>\n    </tr>\n    <tr>\n      <th>std</th>\n      <td>4.198265</td>\n      <td>25.322711</td>\n      <td>29.658465</td>\n      <td>897.258840</td>\n      <td>171.832793</td>\n      <td>368.850833</td>\n      <td>0.098672</td>\n      <td>50.855639</td>\n      <td>132.751732</td>\n      <td>0.157633</td>\n      <td>...</td>\n      <td>62.101191</td>\n      <td>145.348116</td>\n      <td>200.356507</td>\n      <td>131.019557</td>\n      <td>34.783590</td>\n      <td>30.875381</td>\n      <td>62.701690</td>\n      <td>71.213627</td>\n      <td>470.422228</td>\n      <td>0.0</td>\n    </tr>\n    <tr>\n      <th>min</th>\n      <td>19.000000</td>\n      <td>1.000000</td>\n      <td>0.000000</td>\n      <td>1.000000</td>\n      <td>0.000000</td>\n      <td>0.000000</td>\n      <td>0.000000</td>\n      <td>0.000000</td>\n      <td>0.000000</td>\n      <td>0.000000</td>\n      <td>...</td>\n      <td>0.000000</td>\n      <td>0.000000</td>\n      <td>0.000000</td>\n      <td>0.000000</td>\n      <td>0.000000</td>\n      <td>0.000000</td>\n      <td>0.000000</td>\n      <td>0.000000</td>\n      <td>0.000000</td>\n      <td>2013.0</td>\n    </tr>\n    <tr>\n      <th>25%</th>\n      <td>23.000000</td>\n      <td>32.000000</td>\n      <td>0.000000</td>\n      <td>388.000000</td>\n      <td>47.000000</td>\n      <td>110.000000</td>\n      <td>0.400500</td>\n      <td>0.000000</td>\n      <td>3.000000</td>\n      <td>0.234355</td>\n      <td>...</td>\n      <td>12.000000</td>\n      <td>43.000000</td>\n      <td>55.000000</td>\n      <td>20.000000</td>\n      <td>9.000000</td>\n      <td>4.000000</td>\n      <td>21.000000</td>\n      <td>44.000000</td>\n      <td>115.000000</td>\n      <td>2013.0</td>\n    </tr>\n    <tr>\n      <th>50%</th>\n      <td>26.000000</td>\n      <td>61.000000</td>\n      <td>10.000000</td>\n      <td>1141.000000</td>\n      <td>146.000000</td>\n      <td>332.000000</td>\n      <td>0.438000</td>\n      <td>16.000000</td>\n      <td>48.000000</td>\n      <td>0.330976</td>\n      <td>...</td>\n      <td>35.000000</td>\n      <td>135.000000</td>\n      <td>168.000000</td>\n      <td>65.000000</td>\n      <td>32.000000</td>\n      <td>14.000000</td>\n      <td>58.000000</td>\n      <td>104.000000</td>\n      <td>401.000000</td>\n      <td>2013.0</td>\n    </tr>\n    <tr>\n      <th>75%</th>\n      <td>29.000000</td>\n      <td>76.000000</td>\n      <td>54.000000</td>\n      <td>2016.000000</td>\n      <td>307.000000</td>\n      <td>672.000000</td>\n      <td>0.479500</td>\n      <td>68.000000</td>\n      <td>193.000000</td>\n      <td>0.375000</td>\n      <td>...</td>\n      <td>73.000000</td>\n      <td>230.000000</td>\n      <td>310.000000</td>\n      <td>152.000000</td>\n      <td>60.000000</td>\n      <td>32.000000</td>\n      <td>108.000000</td>\n      <td>158.000000</td>\n      <td>821.000000</td>\n      <td>2013.0</td>\n    </tr>\n    <tr>\n      <th>max</th>\n      <td>39.000000</td>\n      <td>83.000000</td>\n      <td>82.000000</td>\n      <td>3122.000000</td>\n      <td>849.000000</td>\n      <td>1688.000000</td>\n      <td>1.000000</td>\n      <td>261.000000</td>\n      <td>615.000000</td>\n      <td>1.000000</td>\n      <td>...</td>\n      <td>440.000000</td>\n      <td>783.000000</td>\n      <td>1114.000000</td>\n      <td>721.000000</td>\n      <td>191.000000</td>\n      <td>219.000000</td>\n      <td>295.000000</td>\n      <td>273.000000</td>\n      <td>2593.000000</td>\n      <td>2013.0</td>\n    </tr>\n  </tbody>\n</table>\n<p>8 rows × 27 columns</p>\n</div>"
     },
     "metadata": {},
     "execution_count": 47
    }
   ],
   "source": [
    "df.describe()"
   ]
  },
  {
   "cell_type": "code",
   "execution_count": 48,
   "metadata": {},
   "outputs": [
    {
     "output_type": "stream",
     "name": "stdout",
     "text": [
      "Index(['player', 'pos', 'bref_team_id', 'season'], dtype='object')\n"
     ]
    }
   ],
   "source": [
    "cat_cols=df.select_dtypes(include=['object'])\n",
    "print(cat_cols.columns)"
   ]
  },
  {
   "cell_type": "code",
   "execution_count": 49,
   "metadata": {},
   "outputs": [],
   "source": [
    "df.drop(['player','season','season_end','bref_team_id'],axis=1,inplace=True)"
   ]
  },
  {
   "cell_type": "code",
   "execution_count": 50,
   "metadata": {},
   "outputs": [],
   "source": [
    "df.dropna(inplace=True)"
   ]
  },
  {
   "cell_type": "code",
   "execution_count": 51,
   "metadata": {},
   "outputs": [
    {
     "output_type": "execute_result",
     "data": {
      "text/plain": [
       "   pos  age   g  gs    mp   fg   fga    fg.  x3p  x3pa  ...    ft.  orb  drb  \\\n",
       "0    4   23  63   0   847   66   141  0.468    4    15  ...  0.660   72  144   \n",
       "3    5   28  73  73  2552  464  1011  0.459  128   300  ...  0.815   32  230   \n",
       "4    0   25  56  30   951  136   249  0.546    0     1  ...  0.836   94  183   \n",
       "6    2   28  69  69  2498  652  1423  0.458    3    15  ...  0.822  166  599   \n",
       "7    2   24  65   2  1072  134   300  0.447    2    13  ...  0.660  119  192   \n",
       "\n",
       "   trb  ast  stl  blk  tov   pf   pts  \n",
       "0  216   28   23   26   30  122   171  \n",
       "3  262  248   35    3  146  136  1330  \n",
       "4  277   40   23   46   63  187   328  \n",
       "6  765  178   63   68  123  147  1603  \n",
       "7  311   71   24   33   44  126   303  \n",
       "\n",
       "[5 rows x 27 columns]"
      ],
      "text/html": "<div>\n<style scoped>\n    .dataframe tbody tr th:only-of-type {\n        vertical-align: middle;\n    }\n\n    .dataframe tbody tr th {\n        vertical-align: top;\n    }\n\n    .dataframe thead th {\n        text-align: right;\n    }\n</style>\n<table border=\"1\" class=\"dataframe\">\n  <thead>\n    <tr style=\"text-align: right;\">\n      <th></th>\n      <th>pos</th>\n      <th>age</th>\n      <th>g</th>\n      <th>gs</th>\n      <th>mp</th>\n      <th>fg</th>\n      <th>fga</th>\n      <th>fg.</th>\n      <th>x3p</th>\n      <th>x3pa</th>\n      <th>...</th>\n      <th>ft.</th>\n      <th>orb</th>\n      <th>drb</th>\n      <th>trb</th>\n      <th>ast</th>\n      <th>stl</th>\n      <th>blk</th>\n      <th>tov</th>\n      <th>pf</th>\n      <th>pts</th>\n    </tr>\n  </thead>\n  <tbody>\n    <tr>\n      <th>0</th>\n      <td>4</td>\n      <td>23</td>\n      <td>63</td>\n      <td>0</td>\n      <td>847</td>\n      <td>66</td>\n      <td>141</td>\n      <td>0.468</td>\n      <td>4</td>\n      <td>15</td>\n      <td>...</td>\n      <td>0.660</td>\n      <td>72</td>\n      <td>144</td>\n      <td>216</td>\n      <td>28</td>\n      <td>23</td>\n      <td>26</td>\n      <td>30</td>\n      <td>122</td>\n      <td>171</td>\n    </tr>\n    <tr>\n      <th>3</th>\n      <td>5</td>\n      <td>28</td>\n      <td>73</td>\n      <td>73</td>\n      <td>2552</td>\n      <td>464</td>\n      <td>1011</td>\n      <td>0.459</td>\n      <td>128</td>\n      <td>300</td>\n      <td>...</td>\n      <td>0.815</td>\n      <td>32</td>\n      <td>230</td>\n      <td>262</td>\n      <td>248</td>\n      <td>35</td>\n      <td>3</td>\n      <td>146</td>\n      <td>136</td>\n      <td>1330</td>\n    </tr>\n    <tr>\n      <th>4</th>\n      <td>0</td>\n      <td>25</td>\n      <td>56</td>\n      <td>30</td>\n      <td>951</td>\n      <td>136</td>\n      <td>249</td>\n      <td>0.546</td>\n      <td>0</td>\n      <td>1</td>\n      <td>...</td>\n      <td>0.836</td>\n      <td>94</td>\n      <td>183</td>\n      <td>277</td>\n      <td>40</td>\n      <td>23</td>\n      <td>46</td>\n      <td>63</td>\n      <td>187</td>\n      <td>328</td>\n    </tr>\n    <tr>\n      <th>6</th>\n      <td>2</td>\n      <td>28</td>\n      <td>69</td>\n      <td>69</td>\n      <td>2498</td>\n      <td>652</td>\n      <td>1423</td>\n      <td>0.458</td>\n      <td>3</td>\n      <td>15</td>\n      <td>...</td>\n      <td>0.822</td>\n      <td>166</td>\n      <td>599</td>\n      <td>765</td>\n      <td>178</td>\n      <td>63</td>\n      <td>68</td>\n      <td>123</td>\n      <td>147</td>\n      <td>1603</td>\n    </tr>\n    <tr>\n      <th>7</th>\n      <td>2</td>\n      <td>24</td>\n      <td>65</td>\n      <td>2</td>\n      <td>1072</td>\n      <td>134</td>\n      <td>300</td>\n      <td>0.447</td>\n      <td>2</td>\n      <td>13</td>\n      <td>...</td>\n      <td>0.660</td>\n      <td>119</td>\n      <td>192</td>\n      <td>311</td>\n      <td>71</td>\n      <td>24</td>\n      <td>33</td>\n      <td>44</td>\n      <td>126</td>\n      <td>303</td>\n    </tr>\n  </tbody>\n</table>\n<p>5 rows × 27 columns</p>\n</div>"
     },
     "metadata": {},
     "execution_count": 51
    }
   ],
   "source": [
    "y_og=df['pts']\n",
    "scaler=RobustScaler()\n",
    "scaler_pts=RobustScaler()\n",
    "le=LabelEncoder()\n",
    "df['pos']=le.fit_transform(df['pos'])\n",
    "df.head()"
   ]
  },
  {
   "cell_type": "code",
   "execution_count": 55,
   "metadata": {},
   "outputs": [],
   "source": [
    "X,y=df.drop(['pts'],axis=1),df['pts']\n",
    "X_train,X_test,y_train,y_test=train_test_split(X,y,test_size=0.2)\n",
    "X_train=scaler.fit_transform(X_train)\n",
    "X_test=scaler.transform(X_test)"
   ]
  },
  {
   "cell_type": "code",
   "execution_count": 57,
   "metadata": {},
   "outputs": [],
   "source": [
    "RANDOM_STATE=42\n",
    "rfr=RandomForestRegressor()\n",
    "rfr.fit(X_train,y_train)\n",
    "preds=rfr.predict(X_test)"
   ]
  },
  {
   "cell_type": "code",
   "execution_count": 58,
   "metadata": {},
   "outputs": [
    {
     "output_type": "execute_result",
     "data": {
      "text/plain": [
       "0.9868609093159374"
      ]
     },
     "metadata": {},
     "execution_count": 58
    }
   ],
   "source": [
    "rfr.score(X_test,y_test)"
   ]
  }
 ]
}